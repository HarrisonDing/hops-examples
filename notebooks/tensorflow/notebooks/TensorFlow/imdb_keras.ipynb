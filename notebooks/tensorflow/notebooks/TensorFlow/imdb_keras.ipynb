{
 "cells": [
  {
   "cell_type": "markdown",
   "metadata": {},
   "source": [
    "# IMDB Movie reviews : LSTM and Binary Classification"
   ]
  },
  {
   "cell_type": "markdown",
   "metadata": {},
   "source": [
    "\n",
    "Two-class classification, or binary classification, may be the most widely applied kind of machine learning problem. In this example, we will learn to classify movie reviews into \"positive\" reviews and \"negative\" reviews, just based on the text content of the reviews using **LSTMs**.\n",
    "\n",
    "## The IMDB dataset\n",
    "We'll be working with \"IMDB dataset\", a set of 50,000 highly-polarized reviews from the Internet Movie Database. They are split into 25,000 reviews for training and 25,000 reviews for testing, each set consisting in 50% negative and 50% positive reviews.\n",
    "Just like the MNIST dataset, the IMDB dataset comes packaged with Keras. It has already been preprocessed: the reviews (sequences of words) have been turned into sequences of integers, where each integer stands for a specific word in a dictionary.\n",
    "\n"
   ]
  },
  {
   "cell_type": "code",
   "execution_count": null,
   "metadata": {},
   "outputs": [],
   "source": [
    "def fun():\n",
    "    '''Trains an LSTM model on the IMDB sentiment classification task.\n",
    "    The dataset is actually too small for LSTM to be of any advantage\n",
    "    compared to simpler, much faster methods such as TF-IDF + LogReg.\n",
    "    Notes:\n",
    "    - RNNs are tricky. Choice of batch size is important,\n",
    "    choice of loss and optimizer is critical, etc.\n",
    "    Some configurations won't converge.\n",
    "    - LSTM loss decrease patterns during training can be quite different\n",
    "    from what you see with CNNs/MLPs/etc.\n",
    "    \n",
    "    Source: https://github.com/fchollet/keras/blob/master/examples/imdb_lstm.py and\n",
    "            https://github.com/fchollet/deep-learning-with-python-notebooks/blob/master/3.5-classifying-movie-reviews.ipynb\n",
    "    '''\n",
    "\n",
    "    from keras.preprocessing import sequence\n",
    "    from keras.models import Sequential\n",
    "    from keras.layers import Dense, Embedding\n",
    "    from keras.callbacks import TensorBoard\n",
    "    from keras.callbacks import ModelCheckpoint\n",
    "    from keras.layers import LSTM\n",
    "    from keras.datasets import imdb\n",
    "    \n",
    "    from hops import tensorboard, hdfs\n",
    "\n",
    "    max_features = 20000\n",
    "    maxlen = 80  # cut texts after this number of words (among top max_features most common words)\n",
    "    batch_size = 256\n",
    "\n",
    "    hdfs.log('Loading data...')\n",
    "    (x_train, y_train), (x_test, y_test) = imdb.load_data(num_words=max_features)\n",
    "    hdfs.log(str(len(x_train)) + 'train sequences')\n",
    "    hdfs.log(str(len(x_test)) + 'test sequences')\n",
    "\n",
    "    hdfs.log('Pad sequences (samples x time)')\n",
    "    x_train = sequence.pad_sequences(x_train, maxlen=maxlen)\n",
    "    x_test = sequence.pad_sequences(x_test, maxlen=maxlen)\n",
    "    hdfs.log('x_train shape:' + str(x_train.shape))\n",
    "    hdfs.log('x_test shape:' + str(x_test.shape))\n",
    "\n",
    "    hdfs.log('Build model...')\n",
    "    model = Sequential()\n",
    "    model.add(Embedding(max_features, 128))\n",
    "    model.add(LSTM(128, dropout=0.5, recurrent_dropout=0.5))\n",
    "    model.add(Dense(1, activation='sigmoid'))\n",
    "\n",
    "    # try using different optimizers and different optimizer configs\n",
    "    model.compile(loss='binary_crossentropy',\n",
    "                  optimizer='adam',\n",
    "                  metrics=['accuracy'])\n",
    "    model_checkpoint = ModelCheckpoint(tensorboard.logdir() + '/imdb.h5py', \n",
    "                                       monitor='val_loss', \n",
    "                                       verbose=0, \n",
    "                                       save_best_only=False, \n",
    "                                       save_weights_only=False, \n",
    "                                       mode='auto', \n",
    "                                       period=1)\n",
    "    tensorboard_callback = TensorBoard(log_dir=tensorboard.logdir(), \n",
    "                                                   histogram_freq=0, \n",
    "                                                   batch_size=batch_size, \n",
    "                                                   write_graph=True, \n",
    "                                                   write_grads=False,\n",
    "                                                   write_images=True, \n",
    "                                                   embeddings_freq=0, \n",
    "                                                   embeddings_layer_names=None, \n",
    "                                                   embeddings_metadata=None)\n",
    "    hdfs.log('Train...')\n",
    "    model.fit(x_train, y_train,\n",
    "              batch_size=batch_size,\n",
    "              epochs=10,\n",
    "              validation_data=(x_test, y_test),\n",
    "              callbacks=[tensorboard_callback])\n",
    "    score, acc = model.evaluate(x_test, y_test,\n",
    "                                batch_size=batch_size)\n",
    "    hdfs.log('Test score:' + str(score))\n",
    "    hdfs.log('Test accuracy:' + str(acc))"
   ]
  },
  {
   "cell_type": "code",
   "execution_count": null,
   "metadata": {},
   "outputs": [],
   "source": [
    "from hops import tflauncher\n",
    "tflauncher.launch(spark, fun)"
   ]
  }
 ],
 "metadata": {
  "kernelspec": {
   "display_name": "PySpark",
   "language": "",
   "name": "pysparkkernel"
  },
  "language_info": {
   "codemirror_mode": {
    "name": "python",
    "version": 2
   },
   "mimetype": "text/x-python",
   "name": "pyspark",
   "pygments_lexer": "python2"
  }
 },
 "nbformat": 4,
 "nbformat_minor": 2
}
